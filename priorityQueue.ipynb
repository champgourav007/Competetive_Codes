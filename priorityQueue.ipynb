{
 "cells": [
  {
   "cell_type": "code",
   "execution_count": 30,
   "metadata": {},
   "outputs": [
    {
     "name": "stdout",
     "output_type": "stream",
     "text": [
      "0:00:00\n"
     ]
    }
   ],
   "source": [
    "import queue\n",
    "import datetime\n",
    "start = datetime.datetime.now()\n",
    "arr = [1,2,3,4]\n",
    "p = queue.Queue()\n",
    "for i in arr:\n",
    "    p.put(i)\n",
    "while p.empty():\n",
    "    p.get()\n",
    "    \n",
    "print(datetime.datetime.now() - start)"
   ]
  },
  {
   "cell_type": "code",
   "execution_count": 29,
   "metadata": {},
   "outputs": [],
   "source": [
    "import queue\n",
    "p = queue.PriorityQueue()\n",
    "for i in arr:\n",
    "    p.put(i)\n",
    "while p.empty():\n",
    "    p.get()"
   ]
  }
 ],
 "metadata": {
  "kernelspec": {
   "display_name": "Python 3.10.7 64-bit (microsoft store)",
   "language": "python",
   "name": "python3"
  },
  "language_info": {
   "codemirror_mode": {
    "name": "ipython",
    "version": 3
   },
   "file_extension": ".py",
   "mimetype": "text/x-python",
   "name": "python",
   "nbconvert_exporter": "python",
   "pygments_lexer": "ipython3",
   "version": "3.10.7"
  },
  "orig_nbformat": 4,
  "vscode": {
   "interpreter": {
    "hash": "39dc92f697b4c888693aeeda3949f4d2c2dc2b11b84458c07a7ec7ab75e91c32"
   }
  }
 },
 "nbformat": 4,
 "nbformat_minor": 2
}
