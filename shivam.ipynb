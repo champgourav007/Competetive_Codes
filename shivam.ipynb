{
 "cells": [
  {
   "cell_type": "code",
   "execution_count": 16,
   "metadata": {},
   "outputs": [],
   "source": [
    "json = '{\"id\": \"0001\",\"type\": \"donut\",\"name\": \"Cake\",\"ppu\": 0.55,\"batters\":{\"batter\":[{ \"id\": \"1001\", \"type\": \"Regular\" },{ \"id\": \"1002\", \"type\": \"Chocolate\" }]},\"topping\":[{ \"id\": \"5001\", \"type\": \"None\" },{ \"id\": \"5002\", \"type\": \"Glazed\" }]}'"
   ]
  },
  {
   "cell_type": "code",
   "execution_count": 17,
   "metadata": {},
   "outputs": [],
   "source": [
    "def sol(json):\n",
    "    if not json:\n",
    "        return ''\n",
    "    \n",
    "    result = []\n",
    "    multiplier = 0\n",
    "    i = 0\n",
    "    \n",
    "    while i < len(json):\n",
    "        if json[i] in ['{', '[']:\n",
    "            result.append('  ' * multiplier + json[i])\n",
    "            multiplier += 1\n",
    "            i += 1\n",
    "        elif json[i] in ['}', ']']:\n",
    "            multiplier -= 1\n",
    "            result.append('  ' * multiplier + json[i])\n",
    "            i += 1\n",
    "        elif json[i] == ',':\n",
    "            result[-1]+= ','\n",
    "            i += 1\n",
    "        else:\n",
    "            start = i\n",
    "            while i < len(json) and json[i] not in ['{', '}', ',', '[', ']']:\n",
    "                i += 1\n",
    "            curr_s = json[start:i]\n",
    "            result.append('  ' * multiplier + curr_s)\n",
    "    \n",
    "    for r in result:\n",
    "        print(r)"
   ]
  },
  {
   "cell_type": "code",
   "execution_count": 18,
   "metadata": {},
   "outputs": [
    {
     "name": "stdout",
     "output_type": "stream",
     "text": [
      "{\n",
      "  \"id\": \"0001\",\n",
      "  \"type\": \"donut\",\n",
      "  \"name\": \"Cake\",\n",
      "  \"ppu\": 0.55,\n",
      "  \"batters\":\n",
      "  {\n",
      "    \"batter\":\n",
      "    [\n",
      "      {\n",
      "         \"id\": \"1001\",\n",
      "         \"type\": \"Regular\" \n",
      "      },\n",
      "      {\n",
      "         \"id\": \"1002\",\n",
      "         \"type\": \"Chocolate\" \n",
      "      }\n",
      "    ]\n",
      "  },\n",
      "  \"topping\":\n",
      "  [\n",
      "    {\n",
      "       \"id\": \"5001\",\n",
      "       \"type\": \"None\" \n",
      "    },\n",
      "    {\n",
      "       \"id\": \"5002\",\n",
      "       \"type\": \"Glazed\" \n",
      "    }\n",
      "  ]\n",
      "}\n"
     ]
    }
   ],
   "source": [
    "sol(json)"
   ]
  }
 ],
 "metadata": {
  "kernelspec": {
   "display_name": "Python 3.10.8 64-bit (microsoft store)",
   "language": "python",
   "name": "python3"
  },
  "language_info": {
   "codemirror_mode": {
    "name": "ipython",
    "version": 3
   },
   "file_extension": ".py",
   "mimetype": "text/x-python",
   "name": "python",
   "nbconvert_exporter": "python",
   "pygments_lexer": "ipython3",
   "version": "3.10.8"
  },
  "orig_nbformat": 4,
  "vscode": {
   "interpreter": {
    "hash": "39dc92f697b4c888693aeeda3949f4d2c2dc2b11b84458c07a7ec7ab75e91c32"
   }
  }
 },
 "nbformat": 4,
 "nbformat_minor": 2
}
